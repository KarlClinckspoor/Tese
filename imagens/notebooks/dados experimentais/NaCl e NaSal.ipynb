{
 "cells": [
  {
   "cell_type": "code",
   "execution_count": 1,
   "metadata": {},
   "outputs": [],
   "source": [
    "import pandas as pd\n",
    "import numpy as np\n",
    "import matplotlib.pyplot as plt\n",
    "\n",
    "import locale\n",
    "locale.setlocale(locale.LC_ALL, '')\n",
    "\n",
    "import matplotlib as mpl\n",
    "mpl.rcParams.update({'font.size': 14, 'text.usetex':False})\n",
    "mpl.rcParams.update({'mathtext.fontset':'dejavusans'})\n",
    "mpl.rcParams['axes.formatter.use_locale'] = True\n",
    "import re\n",
    "\n",
    "import glob\n",
    "im"
   ]
  },
  {
   "cell_type": "code",
   "execution_count": 2,
   "metadata": {},
   "outputs": [
    {
     "data": {
      "text/plain": [
       "['reologia_NaCl_NaSal.txt']"
      ]
     },
     "execution_count": 2,
     "metadata": {},
     "output_type": "execute_result"
    }
   ],
   "source": [
    "glob.glob('*NaCl*')"
   ]
  },
  {
   "cell_type": "code",
   "execution_count": 11,
   "metadata": {},
   "outputs": [
    {
     "data": {
      "text/html": [
       "<div>\n",
       "<style scoped>\n",
       "    .dataframe tbody tr th:only-of-type {\n",
       "        vertical-align: middle;\n",
       "    }\n",
       "\n",
       "    .dataframe tbody tr th {\n",
       "        vertical-align: top;\n",
       "    }\n",
       "\n",
       "    .dataframe thead th {\n",
       "        text-align: right;\n",
       "    }\n",
       "</style>\n",
       "<table border=\"1\" class=\"dataframe\">\n",
       "  <thead>\n",
       "    <tr style=\"text-align: right;\">\n",
       "      <th></th>\n",
       "      <th>CNaCl</th>\n",
       "      <th>tr</th>\n",
       "      <th>terr</th>\n",
       "      <th>trnasal</th>\n",
       "      <th>tr log</th>\n",
       "    </tr>\n",
       "  </thead>\n",
       "  <tbody>\n",
       "    <tr>\n",
       "      <th>0</th>\n",
       "      <td>3000</td>\n",
       "      <td>1.06981</td>\n",
       "      <td>0.10665</td>\n",
       "      <td>12</td>\n",
       "      <td>0.029307</td>\n",
       "    </tr>\n",
       "    <tr>\n",
       "      <th>1</th>\n",
       "      <td>3500</td>\n",
       "      <td>4.69735</td>\n",
       "      <td>0.20354</td>\n",
       "      <td>12</td>\n",
       "      <td>0.671853</td>\n",
       "    </tr>\n",
       "    <tr>\n",
       "      <th>2</th>\n",
       "      <td>4000</td>\n",
       "      <td>9.65396</td>\n",
       "      <td>0.33078</td>\n",
       "      <td>12</td>\n",
       "      <td>0.984705</td>\n",
       "    </tr>\n",
       "    <tr>\n",
       "      <th>3</th>\n",
       "      <td>4500</td>\n",
       "      <td>23.48767</td>\n",
       "      <td>0.56006</td>\n",
       "      <td>12</td>\n",
       "      <td>1.370840</td>\n",
       "    </tr>\n",
       "    <tr>\n",
       "      <th>4</th>\n",
       "      <td>5000</td>\n",
       "      <td>42.72436</td>\n",
       "      <td>1.28601</td>\n",
       "      <td>12</td>\n",
       "      <td>1.630676</td>\n",
       "    </tr>\n",
       "  </tbody>\n",
       "</table>\n",
       "</div>"
      ],
      "text/plain": [
       "   CNaCl        tr     terr  trnasal    tr log\n",
       "0   3000   1.06981  0.10665       12  0.029307\n",
       "1   3500   4.69735  0.20354       12  0.671853\n",
       "2   4000   9.65396  0.33078       12  0.984705\n",
       "3   4500  23.48767  0.56006       12  1.370840\n",
       "4   5000  42.72436  1.28601       12  1.630676"
      ]
     },
     "execution_count": 11,
     "metadata": {},
     "output_type": "execute_result"
    }
   ],
   "source": [
    "dado = pd.read_csv('reologia_NaCl_NaSal.txt', sep='\\t', decimal=',')\n",
    "dado['tr log'] = np.log10(dado['tr'])\n",
    "dado"
   ]
  },
  {
   "cell_type": "code",
   "execution_count": 98,
   "metadata": {},
   "outputs": [
    {
     "data": {
      "image/png": "[encoded data removed]",
      "text/plain": [
       "<Figure size 648x432 with 1 Axes>"
      ]
     },
     "metadata": {},
     "output_type": "display_data"
    }
   ],
   "source": [
    "mpl.rcParams.update({'font.size': 14, 'text.usetex':False})\n",
    "\n",
    "visc_nasal = 12\n",
    "\n",
    "fig, ax = plt.subplots(figsize=(9,6))\n",
    "ax.plot(dado['CNaCl'], dado['tr log'], marker='o')\n",
    "\n",
    "slp, inter = np.polyfit(dado['CNaCl'], dado['tr log'], 1)\n",
    "fit = np.linspace(3000, 5000, 5) * slp + inter\n",
    "ax.plot(dado['CNaCl'], fit)\n",
    "\n",
    "ax.set_xticks(dado['CNaCl'])\n",
    "\n",
    "xticklabels = []\n",
    "for conc in dado['CNaCl']:\n",
    "    xticklabels.append(f'{conc/1000:.1f}'.replace('.', ','))\n",
    "\n",
    "ax.set_xticklabels(xticklabels)\n",
    "ax.set(xlabel = 'Concentração de NaCl/mol.L$^{-1}$', ylabel=r'log ($\\tau_\\mathrm{rel}$/s)')\n",
    "\n",
    "ax.axhline(y = np.log10(visc_nasal), linestyle='--', color='C2')\n",
    "ax.text(y = np.log10(visc_nasal)+0.05, x = 3000, s = rf'$\\tau_\\mathrm{{rel}}$ = {visc_nasal:.1f} s')\n",
    "\n",
    "#for i in np.linspace(3000, 5000, 100):\n",
    "#    diffs[i] = i * slp + inter - np.log10(visc_nasal)\n",
    "\n",
    "diffs = np.abs(np.linspace(3000, 5000, 100) * slp + inter - np.log10(visc_nasal))\n",
    "cross_x = np.linspace(3000, 5000, 100)[diffs.argmin()]\n",
    "cross_y = cross_x * slp + inter\n",
    "ponto = (cross_x, cross_y)\n",
    "\n",
    "axpos = ax.transData.transform(ponto)\n",
    "axpos = ax.transAxes.inverted().transform(axpos)\n",
    "\n",
    "ax.axvline(x = cross_x, ymax=axpos[1], linestyle='--', color='C2')\n",
    "ax.text(x = cross_x + 20, y = 0, s = f'{cross_x/1000:.1f}'.replace('.', ','), color='C2')\n",
    "\n",
    "fig.savefig(r'../../reologia/equivalencia_nasal_nacl.pdf')"
   ]
  },
  {
   "cell_type": "code",
   "execution_count": null,
   "metadata": {},
   "outputs": [],
   "source": []
  }
 ],
 "metadata": {
  "kernelspec": {
   "display_name": "Python 3",
   "language": "python",
   "name": "python3"
  },
  "language_info": {
   "codemirror_mode": {
    "name": "ipython",
    "version": 3
   },
   "file_extension": ".py",
   "mimetype": "text/x-python",
   "name": "python",
   "nbconvert_exporter": "python",
   "pygments_lexer": "ipython3",
   "version": "3.6.1"
  },
  "toc": {
   "base_numbering": 1,
   "nav_menu": {},
   "number_sections": true,
   "sideBar": true,
   "skip_h1_title": false,
   "title_cell": "Table of Contents",
   "title_sidebar": "Contents",
   "toc_cell": false,
   "toc_position": {},
   "toc_section_display": true,
   "toc_window_display": false
  }
 },
 "nbformat": 4,
 "nbformat_minor": 2
}
