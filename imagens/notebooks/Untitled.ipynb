{
 "cells": [
  {
   "cell_type": "markdown",
   "metadata": {
    "toc": true
   },
   "source": [
    "<h1>Table of Contents<span class=\"tocSkip\"></span></h1>\n",
    "<div class=\"toc\"><ul class=\"toc-item\"></ul></div>"
   ]
  },
  {
   "cell_type": "code",
   "execution_count": 2,
   "metadata": {},
   "outputs": [],
   "source": [
    "import pandas as pd\n",
    "import locale\n",
    "locale.setlocale(locale.LC_ALL, '')\n",
    "\n",
    "import matplotlib as mpl\n",
    "mpl.rcParams.update({'font.size': 14, 'text.usetex':False})\n",
    "mpl.rcParams.update({'mathtext.fontset':'dejavusans'})\n",
    "mpl.rcParams['axes.formatter.use_locale'] = True\n",
    "\n",
    "import matplotlib.pyplot as plt\n",
    "import numpy as np\n",
    "import io"
   ]
  },
  {
   "cell_type": "code",
   "execution_count": 14,
   "metadata": {},
   "outputs": [],
   "source": [
    "raw_string = open('./dados experimentais/ITC_TTAB raw 42.itc', 'r').read().split('\\n')\n",
    "new_raw_string = []\n",
    "for i, line in enumerate(raw_string):\n",
    "    if i < 75:\n",
    "        continue\n",
    "    if line.startswith('@'):\n",
    "        continue\n",
    "    new_raw_string.append(line)\n",
    "    \n",
    "#print(raw_string[:15],'\\n\\n\\n', new_raw_string[:15])"
   ]
  },
  {
   "cell_type": "code",
   "execution_count": 10,
   "metadata": {},
   "outputs": [],
   "source": [
    "raw_string_file = io.StringIO('\\n'.join(new_raw_string))"
   ]
  },
  {
   "cell_type": "code",
   "execution_count": 11,
   "metadata": {},
   "outputs": [
    {
     "name": "stdout",
     "output_type": "stream",
     "text": [
      "<class 'pandas.core.frame.DataFrame'>\n",
      "RangeIndex: 5940 entries, 0 to 5939\n",
      "Data columns (total 9 columns):\n",
      "t          5940 non-null float64\n",
      "q          5940 non-null float64\n",
      "T          5940 non-null float64\n",
      "incerto    5940 non-null float64\n",
      "T2         5940 non-null float64\n",
      "un1        5940 non-null float64\n",
      "un2        5940 non-null float64\n",
      "un3        5940 non-null float64\n",
      "un4        5940 non-null float64\n",
      "dtypes: float64(9)\n",
      "memory usage: 417.7 KB\n"
     ]
    }
   ],
   "source": [
    "raw_colnames = ['t', 'q', 'T', 'incerto', 'T2', 'un1', 'un2', 'un3', 'un4']\n",
    "#raw = pd.read_csv(r'./dados experimentais/ITC_TTAB raw 42.itc', sep=',', decimal='.', \n",
    "#                  skiprows=75, names=raw_colnames)\n",
    "raw = pd.read_csv(raw_string_file, names=raw_colnames)\n",
    "#raw.head()\n",
    "raw.info()"
   ]
  },
  {
   "cell_type": "code",
   "execution_count": 13,
   "metadata": {},
   "outputs": [
    {
     "data": {
      "text/plain": [
       "[<matplotlib.lines.Line2D at 0x283e87e51d0>]"
      ]
     },
     "execution_count": 13,
     "metadata": {},
     "output_type": "execute_result"
    },
    {
     "data": {
      "image/png": "[encoded data removed]",
      "text/plain": [
       "<Figure size 432x288 with 1 Axes>"
      ]
     },
     "metadata": {},
     "output_type": "display_data"
    }
   ],
   "source": [
    "%matplotlib inline\n",
    "plt.plot('t', 'q', data=raw)\n",
    "#plt.savefig('./teste.png', dpi=150)"
   ]
  },
  {
   "cell_type": "code",
   "execution_count": 22,
   "metadata": {},
   "outputs": [
    {
     "name": "stdout",
     "output_type": "stream",
     "text": [
      "﻿;ΔQ (μJ);Vol. (μL);Xt (mM);Mt (mM);XMT;∆H (J/mol);Fit (J/mol);Residual (J/mol);\n",
      "1;13.92918;0.300;0.00000e0;1.00000;6.05858e-2;1095.06158;5074.77056;-3979.70898\n",
      "2;210.88109;1.00;6.04994e-2;0.99857;0.26318;4973.11337;5073.84582;-100.73245\n",
      "3;211.43238;1.00;0.26156;0.99383;0.46674;4986.11414;5072.19103;-86.07689\n",
      "4;211.75861;1.00;0.46166;0.98911;0.67126;4993.80745;5070.17578;-76.36833\n",
      "5;211.09146;1.00;0.66080;0.98441;0.87674;4978.07436;5067.73576;-89.66139\n",
      "6;209.74992;1.00;0.85898;0.97974;1.08318;4946.43744;5064.78572;-118.34828\n",
      "7;210.67276;1.00;1.05619;0.97509;1.29058;4968.20033;5061.21085;-93.01052\n",
      "8;211.26975;1.00;1.25245;0.97045;1.49894;4982.27889;5056.85359;-74.57471\n",
      "9;211.56039;1.00;1.44775;0.96584;1.70827;4989.13291;5051.49315;-62.36024\n",
      "10;212.96905;1.00;1.64208;0.96126;1.91855;5022.35282;5044.81263;-22.45980\n",
      "11;212.66456;1.00;1.83546;0.95669;2.12979;5015.17200;5036.34468;-21.17267\n",
      "12;210.95233;1.00;2.02787;0.95214;2.34200;4974.79330;5025.37809;-50.58479\n",
      "13;211.61677;1.00;2.21932;0.94762;2.55516;4990.46253;5010.79032;-20.32779\n",
      "14;212.56801;1.00;2.40981;0.94312;2.76929;5012.89521;4990.73244;22.16277\n",
      "15;212.64122;1.00;2.59935;0.93863;2.98438;5014.62167;4962.00270;52.61898\n",
      "16;214.29913;1.00;2.78792;0.93417;3.20042;5053.71942;4918.72218;134.99724\n",
      "17;215.01423;1.00;2.97553;0.92973;3.41743;5070.58326;4849.34987;221.23339\n",
      "18;214.72420;1.00;3.16218;0.92531;3.63540;5063.74353;4729.59877;334.14476\n",
      "19;202.57007;1.00;3.34787;0.92091;3.85433;4777.11831;4505.94191;271.17640\n",
      "20;169.20536;1.00;3.53259;0.91653;4.07422;3990.29337;4069.23831;-78.94494\n",
      "21;131.69529;1.00;3.71636;0.91216;4.29507;3105.71045;3300.15373;-194.44328\n",
      "22;95.96695;1.00;3.89917;0.90782;4.51688;2263.14520;2362.55687;-99.41167\n",
      "23;74.84275;1.00;4.08101;0.90350;4.73966;1764.98261;1665.24164;99.74097\n",
      "24;63.26391;1.00;4.26190;0.89920;4.96339;1491.92424;1287.35668;204.56756\n",
      "25;54.75344;1.00;4.44182;0.89492;5.18808;1291.22552;1095.10538;196.12013\n",
      "26;48.40261;1.00;4.62079;0.89065;5.41374;1141.45693;991.73829;149.71864\n",
      "27;44.80297;1.00;4.79879;0.88641;5.64035;1056.56819;931.70613;124.86206\n",
      "28;41.53951;1.00;4.97583;0.88218;5.86793;979.60754;894.32424;85.28329\n",
      "29;39.74903;1.00;5.15191;0.87798;6.09647;937.38350;869.66328;67.72022\n",
      "30;37.85858;1.00;5.32703;0.87379;6.32597;892.80174;852.60998;40.19175\n",
      "31;27.95004;1.00;5.50119;0.86962;6.55642;659.13318;840.35286;-181.21968\n",
      "32;40.90503;1.00;5.67439;0.86547;6.78784;964.64483;831.25547;133.38936\n",
      "33;32.63060;1.00;5.84663;0.86134;7.02022;769.51278;824.31795;-54.80517\n",
      "34;31.36021;1.00;6.01791;0.85722;7.25356;739.55358;818.90355;-79.34997\n",
      "35;30.47629;1.00;6.18822;0.85313;7.48787;718.70856;814.59220;-95.88363\n",
      "36;29.60053;1.00;6.35758;0.84905;7.72313;698.05590;811.09814;-113.04224\n",
      "37;28.97549;1.00;6.52598;0.84499;7.95935;683.31589;808.22179;-124.90590\n",
      "38;28.22152;1.00;6.69341;0.84095;8.19653;665.53540;805.82048;-140.28509\n",
      "39;27.30121;1.00;6.85989;0.83693;8.43468;643.83198;803.79011;-159.95813\n",
      "40;0.00000e0;0;;7.02540;0.83292;0.00000e0;0.00000e0;0.00000e0;0.00000e0\n",
      "\n"
     ]
    }
   ],
   "source": [
    "inj_table_raw = open('./dados experimentais/ITC_TTAB tabela inj.csv', encoding='utf8').read()\n",
    "inj_table_raw = inj_table_raw.replace('\",\"', ';')\n",
    "inj_table_raw = inj_table_raw.replace(',\"', ';')\n",
    "inj_table_raw = inj_table_raw.replace('\"\\n', '\\n')\n",
    "inj_table_raw = inj_table_raw.replace(',','.')\n",
    "inj_table_raw = inj_table_raw.replace('\".0',';0;')\n",
    "\n",
    "print(inj_table_raw)\n"
   ]
  },
  {
   "cell_type": "code",
   "execution_count": 28,
   "metadata": {},
   "outputs": [
    {
     "name": "stdout",
     "output_type": "stream",
     "text": [
      "<class 'pandas.core.frame.DataFrame'>\n",
      "RangeIndex: 40 entries, 0 to 39\n",
      "Data columns (total 10 columns):\n",
      "Unnamed: 0          40 non-null int64\n",
      "ΔQ (μJ)             40 non-null float64\n",
      "Vol. (μL)           40 non-null float64\n",
      "Xt (mM)             39 non-null float64\n",
      "Mt (mM)             40 non-null float64\n",
      "XMT                 40 non-null float64\n",
      "∆H (J/mol)          40 non-null float64\n",
      "Fit (J/mol)         40 non-null float64\n",
      "Residual (J/mol)    40 non-null float64\n",
      "Unnamed: 9          1 non-null float64\n",
      "dtypes: float64(9), int64(1)\n",
      "memory usage: 3.2 KB\n"
     ]
    }
   ],
   "source": [
    "raw_inj_file = io.StringIO(inj_table_raw)\n",
    "raw_inj = pd.read_csv(raw_inj_file, sep=';')\n",
    "raw_inj.info()"
   ]
  }
 ],
 "metadata": {
  "kernelspec": {
   "display_name": "Python 3",
   "language": "python",
   "name": "python3"
  },
  "toc": {
   "base_numbering": 1,
   "nav_menu": {},
   "number_sections": true,
   "sideBar": true,
   "skip_h1_title": false,
   "title_cell": "Table of Contents",
   "title_sidebar": "Contents",
   "toc_cell": true,
   "toc_position": {},
   "toc_section_display": true,
   "toc_window_display": false
  },
  "varInspector": {
   "cols": {
    "lenName": 16,
    "lenType": 16,
    "lenVar": 40
   },
   "kernels_config": {
    "python": {
     "delete_cmd_postfix": "",
     "delete_cmd_prefix": "del ",
     "library": "var_list.py",
     "varRefreshCmd": "print(var_dic_list())"
    },
    "r": {
     "delete_cmd_postfix": ") ",
     "delete_cmd_prefix": "rm(",
     "library": "var_list.r",
     "varRefreshCmd": "cat(var_dic_list()) "
    }
   },
   "types_to_exclude": [
    "module",
    "function",
    "builtin_function_or_method",
    "instance",
    "_Feature"
   ],
   "window_display": false
  }
 },
 "nbformat": 4,
 "nbformat_minor": 2
}
